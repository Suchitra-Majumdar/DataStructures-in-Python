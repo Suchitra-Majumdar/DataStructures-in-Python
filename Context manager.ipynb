{
 "cells": [
  {
   "cell_type": "code",
   "execution_count": null,
   "metadata": {},
   "outputs": [],
   "source": []
  },
  {
   "cell_type": "markdown",
   "metadata": {},
   "source": [
    "### Context managers"
   ]
  },
  {
   "cell_type": "markdown",
   "metadata": {},
   "source": [
    "Context managers is a type of function that sets up a context for your code to run in, runs your code, and then removes the context. "
   ]
  },
  {
   "cell_type": "markdown",
   "metadata": {},
   "source": [
    "Imagine that you are throwing a fancy party, and have hired some caterers to provide refreshments for your guests."
   ]
  },
  {
   "cell_type": "markdown",
   "metadata": {},
   "source": [
    "Imagine that you are throwing a fancy party, and have hired some caterers to provide refreshments for your guests.\n",
    "<img src=\"Image_1.PNG\" width=\"800\" />"
   ]
  },
  {
   "cell_type": "markdown",
   "metadata": {},
   "source": [
    "Before the party starts, the caterers set up tables with food and drinks!!!!.\n",
    "\n",
    "<img src=\"Image_2.PNG\" width=\"800\" />"
   ]
  },
  {
   "cell_type": "markdown",
   "metadata": {},
   "source": [
    "Then you and your friends dance, eat, and have a good time.\n",
    "<img src=\"Image_3.PNG\" width=\"800\" />"
   ]
  },
  {
   "cell_type": "markdown",
   "metadata": {},
   "source": [
    "When the party is done, the caterers clean up the food and remove the tables!\n",
    "<img src=\"Image_4.PNG\" width=\"800\" />"
   ]
  },
  {
   "cell_type": "markdown",
   "metadata": {},
   "source": [
    "In this analogy, the caterers are like a context manager.\n",
    "\n",
    "Context managers:\n",
    "\n",
    "Set up a context\n",
    "\n",
    "Run your code\n",
    "\n",
    "Remove the context\n",
    "\n",
    "First, the caterers set up a context for your party, which was a room full of food and drinks. Then they let you and your friends do whatever you want. This is like you being able to run your code inside the context manager's context. Finally, when the party is over, the caterers clean up and remove the context in which the party happened."
   ]
  },
  {
   "cell_type": "code",
   "execution_count": null,
   "metadata": {},
   "outputs": [],
   "source": []
  },
  {
   "cell_type": "markdown",
   "metadata": {},
   "source": [
    "You may have already used context managers without even realizing it. \n",
    "\n",
    "For example, the open() function is a context manager. open() does three things:\n",
    "\n",
    "Sets up a context by opening a file\n",
    "\n",
    "Lets you run any code you want on that file\n",
    "\n",
    "Removes the context by closing the file\n",
    "\n",
    "When we write with open(), it opens a file that we can read from or write to. \n",
    "\n",
    "Then, it gives control back to our code, so that we can perform operations on the file object."
   ]
  },
  {
   "cell_type": "code",
   "execution_count": 10,
   "metadata": {},
   "outputs": [
    {
     "name": "stdout",
     "output_type": "stream",
     "text": [
      "The file is 21 character long\n"
     ]
    }
   ],
   "source": [
    "with open('my_file.txt') as my_file:\n",
    "    text = my_file.read()\n",
    "    length = len(text)\n",
    "print(\"The file is {} character long\".format(length))"
   ]
  },
  {
   "cell_type": "markdown",
   "metadata": {},
   "source": [
    "In the example above, we read the text of the file, store the contents of the file in the variable text, and store the length of the contents in the variable length. When the code inside the indented block is done, the open() function makes sure that the file is closed before continuing on in the script. The print statement is outside of the context, so by the time it runs, the file is closed"
   ]
  },
  {
   "cell_type": "code",
   "execution_count": null,
   "metadata": {},
   "outputs": [],
   "source": []
  },
  {
   "cell_type": "markdown",
   "metadata": {},
   "source": [
    "Any time we use a context manager, it will look like this. The keyword with lets Python know that we are trying to enter a context:\n",
    "\n",
    "with\n",
    "\n",
    "Then we call a function. We can call any function that is built to work as a context manager.\n",
    "\n",
    "with context-manager()\n",
    "A context manager can also take arguments like any normal function:\n",
    "\n",
    "with context-manager(args)\n",
    "We end the with statement with a colon, as if we were writing a for loop or an if statement:\n",
    "\n",
    "with context-manager(args):\n",
    "Statements in Python that have an indented block after them, like for loops, if/else statements, function definitions, etc. are called compound statements. The with statement is another type of compound statement. Any code that we want to run inside the context that the context manager created needs to be indented.\n",
    "\n",
    "with context-manager(args):\n",
    "   Run your code here\n",
    "   This code is running \"inside the context\"\n",
    "When the indented block is done, the context manager gets a chance to clean up anything that it needs to, like when the open() context manager closed the file.\n",
    "\n",
    "with context-manager(args):\n",
    "  Run your code here\n",
    "   This code is running \"inside the context\"\n",
    "​\n",
    "This code runs after the context is removed\n",
    "Some context managers want to return a value that you can use inside the context. By adding as and a variable name at the end of the with statement, we can assign the returned value to the variable name.\n",
    "\n",
    "with context-manager(args) as variable-name:\n",
    "   Run your code here\n",
    "   This code is running \"inside the context\"\n",
    "​\n",
    " This code runs after the context is removed\n",
    "We used this ability when calling the open() context manager, which returns a file that we can read from or write to. By adding as my_file to the with statement, we can assign the file to the variable my_file.\n",
    "\n",
    "with open('my_file.txt') as my_file:\n",
    "    text = my_file.read()\n",
    "    length = len(text)\n",
    "​\n",
    "print('The file is {} characters long'.format(length))"
   ]
  },
  {
   "cell_type": "code",
   "execution_count": null,
   "metadata": {},
   "outputs": [],
   "source": []
  },
  {
   "cell_type": "code",
   "execution_count": 13,
   "metadata": {},
   "outputs": [
    {
     "name": "stdout",
     "output_type": "stream",
     "text": [
      "Lewis caroll use the word cat 24 times\n"
     ]
    }
   ],
   "source": [
    "with open('alice.txt') as myfile:\n",
    "    text = myfile.read()\n",
    "n = 0\n",
    "for word in text.split():\n",
    "    if word.lower() in ['cat','cats']:\n",
    "        n+=1\n",
    "        \n",
    "print(\"Lewis caroll use the word cat {} times\".format(n))"
   ]
  },
  {
   "cell_type": "code",
   "execution_count": null,
   "metadata": {},
   "outputs": [],
   "source": []
  },
  {
   "cell_type": "markdown",
   "metadata": {},
   "source": [
    "### Imagine we are implementing a function that copies the contents of one file to another file. One way we could write this function would be to open the source file, store the contents of the file in the contents variable, then open the destination file and write the contents to it."
   ]
  },
  {
   "cell_type": "code",
   "execution_count": 15,
   "metadata": {},
   "outputs": [],
   "source": [
    "def copy(src,dst):\n",
    "    \"\"\"\"Copy the contents of one file to another\n",
    "    \n",
    "    Args: \n",
    "        src (str):File name of the file to be copied\n",
    "        dst (str): where to write the new file\n",
    "    \"\"\"\n",
    "        \n",
    "    # Open the source file and read in the contents\n",
    "    with open(src) as f_src:\n",
    "        contents = f_src.read()\n",
    "    # Open the destination file and write out the contents\n",
    "    with open(dst,'w') as f_dst:\n",
    "        f_dst.write(contents)\n",
    "    "
   ]
  },
  {
   "cell_type": "markdown",
   "metadata": {},
   "source": [
    "This approach works fine until we try to copy a file that is too large to fit in memory.\n",
    "\n",
    "What would be ideal is if we could open both files at once and copy over one line at a time.\n",
    "\n",
    "Fortunately for us, the file object that the open() context manager returns can be iterated over in a for loop. The statement for line in my_file here will read in the contents of my_file one line at a time until the end of the file."
   ]
  },
  {
   "cell_type": "markdown",
   "metadata": {},
   "source": [
    "with open('my_file.txt') as my_file:\n",
    "    for line in my_file:\n",
    "      # do something"
   ]
  },
  {
   "cell_type": "markdown",
   "metadata": {},
   "source": [
    "So, going back to our copy() function, if we could open both files at once, we could read in the source file line-by-line and write each line out to the destination as we go. This would let us copy the file without worrying about how big it is."
   ]
  },
  {
   "cell_type": "markdown",
   "metadata": {},
   "source": [
    "In Python, nested with statements are perfectly legal. This code opens the source file, and then opens the destination file inside the source file's context."
   ]
  },
  {
   "cell_type": "code",
   "execution_count": 18,
   "metadata": {},
   "outputs": [],
   "source": [
    "def copy(src,dst):\n",
    "    \"\"\"Copy the contents of one file to another.\n",
    "    \n",
    "    Args:\n",
    "        src (str): File name of the file to be copied\n",
    "        dst (str): Where to write the new file.\n",
    "    \"\"\"\n",
    "    #Open both files\n",
    "    with open(src) as f_src:\n",
    "        with open(dst,'w') as f_dst:\n",
    "            #Read and write each line one at a time\n",
    "            for line in f_src:\n",
    "                f_dst.write(line)"
   ]
  },
  {
   "cell_type": "markdown",
   "metadata": {},
   "source": [
    "That means code that runs inside the context created by opening the destination file has access to both the f_src and the f_dst file objects. So we are able to copy the file over one line at a time like we wanted to!"
   ]
  },
  {
   "cell_type": "code",
   "execution_count": null,
   "metadata": {},
   "outputs": [],
   "source": []
  },
  {
   "cell_type": "code",
   "execution_count": null,
   "metadata": {},
   "outputs": [],
   "source": []
  }
 ],
 "metadata": {
  "kernelspec": {
   "display_name": "Python 3",
   "language": "python",
   "name": "python3"
  },
  "language_info": {
   "codemirror_mode": {
    "name": "ipython",
    "version": 3
   },
   "file_extension": ".py",
   "mimetype": "text/x-python",
   "name": "python",
   "nbconvert_exporter": "python",
   "pygments_lexer": "ipython3",
   "version": "3.7.3"
  }
 },
 "nbformat": 4,
 "nbformat_minor": 2
}
