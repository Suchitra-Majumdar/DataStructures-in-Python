{
 "cells": [
  {
   "cell_type": "markdown",
   "metadata": {},
   "source": [
    "### Every function in Python comes with a __doc__ attribute that holds the contents of the function's docstring."
   ]
  },
  {
   "cell_type": "markdown",
   "metadata": {},
   "source": [
    "Concepts\n",
    "## A docstring is a string written as the first line of a function that describes what the functions does. Docstrings contain some (although usually not all) of these five key pieces of information:\n",
    "\n",
    "What the function does\n",
    "What the arguments are\n",
    "What the return value or values should be\n",
    "Info about any errors raised\n",
    "Anything else you'd like to say about the function\n",
    "To access a built-in function's docstring in Jupyter notebook, press \"Shift\" + \"Tab\" while the cursor is within the parentheses of the function.\n",
    "\n",
    "The \"Don't repeat yourself\" principle, also known as DRY, states that it's better to wrap repeated logic in a function. The \"Do One Thing\" principle states that each function should only have a single responsibility. \n",
    "Following these best practices will makes your code more flexible, simpler to test, simpler to debug, and easier to change.\n",
    "Mutable variables can be changed, whereas immutable varibles cannot be changed. \n",
    "There are only a few immutable data types in Python because almost everything is represented as an object.\n",
    "Instead of using a mutable variable as a default value in a function, default to None and set the argument in the function, so that your function doesn't behave unexpectedly."
   ]
  },
  {
   "cell_type": "code",
   "execution_count": null,
   "metadata": {},
   "outputs": [],
   "source": []
  },
  {
   "cell_type": "code",
   "execution_count": 1,
   "metadata": {},
   "outputs": [],
   "source": [
    "def the_answer():\n",
    "    \"\"\"\"Returns the answer to life,\n",
    "    the universe, and everything.\n",
    "    Returns:\n",
    "        int\n",
    "    \"\"\"\n",
    "    return 42"
   ]
  },
  {
   "cell_type": "code",
   "execution_count": 2,
   "metadata": {},
   "outputs": [
    {
     "name": "stdout",
     "output_type": "stream",
     "text": [
      "\"Returns the answer to life,\n",
      "    the universe, and everything.\n",
      "    Returns:\n",
      "        int\n",
      "    \n"
     ]
    }
   ],
   "source": [
    "print(the_answer.__doc__)"
   ]
  },
  {
   "cell_type": "markdown",
   "metadata": {},
   "source": [
    "#### Notice that the __doc__ attribute contains the raw docstring, including any tabs or spaces that were added to make the words visually line up.\n",
    "### To get a cleaner version, with those leading spaces removed, we can use the getdoc() function from the inspect module."
   ]
  },
  {
   "cell_type": "code",
   "execution_count": 3,
   "metadata": {},
   "outputs": [
    {
     "name": "stdout",
     "output_type": "stream",
     "text": [
      "\"Returns the answer to life,\n",
      "the universe, and everything.\n",
      "Returns:\n",
      "    int\n"
     ]
    }
   ],
   "source": [
    "import inspect\n",
    "print(inspect.getdoc(the_answer))"
   ]
  },
  {
   "cell_type": "code",
   "execution_count": null,
   "metadata": {},
   "outputs": [],
   "source": []
  },
  {
   "cell_type": "code",
   "execution_count": 4,
   "metadata": {},
   "outputs": [],
   "source": [
    "def count_letter(content, letter):\n",
    "    if (not isinstance(letter, str)) or len(letter) != 1:\n",
    "        raise ValueError('`letter` must be a single character string.')\n",
    "    return len([char for char in content if char == letter])"
   ]
  },
  {
   "cell_type": "code",
   "execution_count": 21,
   "metadata": {},
   "outputs": [
    {
     "name": "stdout",
     "output_type": "stream",
     "text": [
      "Counts the number of times `letter` appears in `content`.\n",
      "\n",
      "Args:\n",
      "  content (str): The string to search.\n",
      "  letter (str): The letter to search for.\n",
      "\n",
      "Returns:\n",
      "  int\n",
      "  \n",
      "Raises:\n",
      "    ValueError: Include any error types that the function intentionally raises.\n"
     ]
    }
   ],
   "source": [
    "def count_letter(content, letter):\n",
    "    \"\"\"Counts the number of times `letter` appears in `content`.\n",
    "\n",
    "    Args:\n",
    "      content (str): The string to search.\n",
    "      letter (str): The letter to search for.\n",
    "\n",
    "    Returns:\n",
    "      int\n",
    "      \n",
    "    Raises:\n",
    "        ValueError: Include any error types that the function intentionally raises.\n",
    "    \"\"\"\n",
    "    if (not isinstance(letter, str)) or len(letter) != 1:\n",
    "        raise ValueError('`letter` must be a single character string.')\n",
    "    return len([char for char in content if char == letter])\n",
    "formatted_docstring = inspect.getdoc(count_letter)\n",
    "print(formatted_docstring)"
   ]
  },
  {
   "cell_type": "code",
   "execution_count": null,
   "metadata": {},
   "outputs": [],
   "source": []
  },
  {
   "cell_type": "code",
   "execution_count": 9,
   "metadata": {},
   "outputs": [
    {
     "name": "stderr",
     "output_type": "stream",
     "text": [
      "C:\\Users\\SUCHITRA\\Anaconda3\\lib\\importlib\\_bootstrap.py:219: RuntimeWarning: numpy.ufunc size changed, may indicate binary incompatibility. Expected 192 from C header, got 216 from PyObject\n",
      "  return f(*args, **kwds)\n"
     ]
    }
   ],
   "source": [
    "from sklearn.decomposition import PCA\n",
    "import pandas as pd\n",
    "import numpy as np"
   ]
  },
  {
   "cell_type": "code",
   "execution_count": null,
   "metadata": {},
   "outputs": [],
   "source": []
  },
  {
   "cell_type": "code",
   "execution_count": null,
   "metadata": {},
   "outputs": [],
   "source": []
  },
  {
   "cell_type": "code",
   "execution_count": null,
   "metadata": {},
   "outputs": [],
   "source": []
  },
  {
   "cell_type": "code",
   "execution_count": null,
   "metadata": {},
   "outputs": [],
   "source": []
  },
  {
   "cell_type": "code",
   "execution_count": null,
   "metadata": {},
   "outputs": [],
   "source": []
  },
  {
   "cell_type": "code",
   "execution_count": null,
   "metadata": {},
   "outputs": [],
   "source": []
  },
  {
   "cell_type": "code",
   "execution_count": null,
   "metadata": {},
   "outputs": [],
   "source": []
  },
  {
   "cell_type": "code",
   "execution_count": null,
   "metadata": {},
   "outputs": [],
   "source": []
  },
  {
   "cell_type": "code",
   "execution_count": null,
   "metadata": {},
   "outputs": [],
   "source": []
  }
 ],
 "metadata": {
  "kernelspec": {
   "display_name": "Python 3",
   "language": "python",
   "name": "python3"
  },
  "language_info": {
   "codemirror_mode": {
    "name": "ipython",
    "version": 3
   },
   "file_extension": ".py",
   "mimetype": "text/x-python",
   "name": "python",
   "nbconvert_exporter": "python",
   "pygments_lexer": "ipython3",
   "version": "3.7.3"
  }
 },
 "nbformat": 4,
 "nbformat_minor": 2
}
